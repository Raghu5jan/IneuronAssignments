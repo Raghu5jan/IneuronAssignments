{
 "cells": [
  {
   "cell_type": "markdown",
   "id": "5d6db367",
   "metadata": {},
   "source": [
    "# Question1  Create a function that takes three integer arguments (a, b, c) and returns the amount of integers which are of equal value.\n"
   ]
  },
  {
   "cell_type": "code",
   "execution_count": 4,
   "id": "7f9b9cda",
   "metadata": {},
   "outputs": [],
   "source": [
    "def three_arguments(a,b,c):\n",
    "    count=0\n",
    "    if a==b or a==c:\n",
    "        count+=1 \n",
    "    if b==a or b==c:\n",
    "        count+=1\n",
    "    if c==a or c==b:\n",
    "        count+=1\n",
    "    return count\n"
   ]
  },
  {
   "cell_type": "code",
   "execution_count": 5,
   "id": "466d3183",
   "metadata": {},
   "outputs": [
    {
     "data": {
      "text/plain": [
       "3"
      ]
     },
     "execution_count": 5,
     "metadata": {},
     "output_type": "execute_result"
    }
   ],
   "source": [
    "three_arguments(1,1,1)"
   ]
  },
  {
   "cell_type": "markdown",
   "id": "d9ccc9dd",
   "metadata": {},
   "source": [
    "# Question2  Write a function that converts a dictionary into a list of keys-values tuples.\n"
   ]
  },
  {
   "cell_type": "code",
   "execution_count": 20,
   "id": "69e35ac8",
   "metadata": {},
   "outputs": [],
   "source": [
    "d1 = {\"D\":1,\"B\":2,\"C\":3}\n",
    "d2 = {\"likes\":3,\"dislikes\":3,\"followers\":10}"
   ]
  },
  {
   "cell_type": "code",
   "execution_count": 15,
   "id": "3ed6e679",
   "metadata": {},
   "outputs": [],
   "source": [
    "def dicttolist(d):\n",
    "    li=[]\n",
    "    for i in d.items():\n",
    "        li.append(i)\n",
    "    return sorted(li)\n",
    "\n"
   ]
  },
  {
   "cell_type": "code",
   "execution_count": 19,
   "id": "45466db1",
   "metadata": {},
   "outputs": [
    {
     "data": {
      "text/plain": [
       "[('B', 2), ('C', 3), ('D', 1)]"
      ]
     },
     "execution_count": 19,
     "metadata": {},
     "output_type": "execute_result"
    }
   ],
   "source": [
    "dicttolist(d1)"
   ]
  },
  {
   "cell_type": "code",
   "execution_count": 49,
   "id": "a33e71b3",
   "metadata": {},
   "outputs": [
    {
     "data": {
      "text/plain": [
       "[('dislikes', 3), ('followers', 10), ('likes', 3)]"
      ]
     },
     "execution_count": 49,
     "metadata": {},
     "output_type": "execute_result"
    }
   ],
   "source": [
    "dicttolist(d2)"
   ]
  },
  {
   "cell_type": "code",
   "execution_count": 54,
   "id": "c686135f",
   "metadata": {},
   "outputs": [],
   "source": [
    "l1 = ['m','s']\n",
    "l2 = [\"a\",\"b\",\"c\"]\n",
    "l3 = [\"a\",\"v\",\"y\",\"z\"]"
   ]
  },
  {
   "cell_type": "markdown",
   "id": "e8043f73",
   "metadata": {},
   "source": [
    "# Question3 Write a function that creates a dictionary with each (key, value) pair being the (lower case, upper case) versions of a letter, respectively.\n"
   ]
  },
  {
   "cell_type": "code",
   "execution_count": 51,
   "id": "b606c376",
   "metadata": {},
   "outputs": [],
   "source": [
    "from collections import defaultdict\n",
    "def listtodict(l):\n",
    "    details = defaultdict(list)\n",
    "    for i in l:\n",
    "        details[i].append(i.upper())\n",
    "    return dict(details)\n",
    "    "
   ]
  },
  {
   "cell_type": "code",
   "execution_count": 55,
   "id": "1b064a77",
   "metadata": {},
   "outputs": [
    {
     "data": {
      "text/plain": [
       "{'m': ['M'], 's': ['S']}"
      ]
     },
     "execution_count": 55,
     "metadata": {},
     "output_type": "execute_result"
    }
   ],
   "source": [
    "listtodict(l1)"
   ]
  },
  {
   "cell_type": "code",
   "execution_count": 56,
   "id": "be776d5d",
   "metadata": {},
   "outputs": [
    {
     "data": {
      "text/plain": [
       "{'a': ['A'], 'b': ['B'], 'c': ['C']}"
      ]
     },
     "execution_count": 56,
     "metadata": {},
     "output_type": "execute_result"
    }
   ],
   "source": [
    "listtodict(l2)"
   ]
  },
  {
   "cell_type": "code",
   "execution_count": 57,
   "id": "432d9f68",
   "metadata": {},
   "outputs": [
    {
     "data": {
      "text/plain": [
       "{'a': ['A'], 'v': ['V'], 'y': ['Y'], 'z': ['Z']}"
      ]
     },
     "execution_count": 57,
     "metadata": {},
     "output_type": "execute_result"
    }
   ],
   "source": [
    "listtodict(l3)"
   ]
  },
  {
   "cell_type": "markdown",
   "id": "2a469cbc",
   "metadata": {},
   "source": [
    "# Question4 Write a function, that replaces all vowels in a string with a specified vowel.\n"
   ]
  },
  {
   "cell_type": "code",
   "execution_count": 11,
   "id": "c5231cd3",
   "metadata": {},
   "outputs": [
    {
     "name": "stdout",
     "output_type": "stream",
     "text": [
      "Given String: apples and bananas\n",
      "Given Specified Character: u\n",
      "After replacing vowels with the specified character: upplus und bununus\n"
     ]
    }
   ],
   "source": [
    "# Function to Replace each vowel in\n",
    "# the string with a specified character\n",
    "def replaceVowelsWithCharacter(test_str, K):\n",
    "\n",
    "\t# string of vowels\n",
    "\tvowels = 'AEIOUaeiou'\n",
    "\n",
    "\t# iterating to check vowels in string\n",
    "\tfor ele in vowels:\n",
    "\n",
    "\t\t# replacing vowel with the specified character\n",
    "\t\ttest_str = test_str.replace(ele, K)\n",
    "\n",
    "\treturn test_str\n",
    "\n",
    "\n",
    "\n",
    "# Driver Code\n",
    "# input string\n",
    "input_str = \"apples and bananas\"\n",
    "\n",
    "# specified character\n",
    "K = \"u\"\n",
    "\n",
    "# printing input\n",
    "print(\"Given String:\", input_str)\n",
    "print(\"Given Specified Character:\", K)\n",
    "\n",
    "# printing output\n",
    "print(\"After replacing vowels with the specified character:\",\n",
    "\treplaceVowelsWithCharacter(input_str, K))\n"
   ]
  },
  {
   "cell_type": "markdown",
   "id": "618c8692",
   "metadata": {},
   "source": [
    "# Question5 Create a function that takes a string as input and capitalizes a letter if its ASCII code is even and returns its lower case version if its ASCII code is odd.\n"
   ]
  },
  {
   "cell_type": "code",
   "execution_count": 40,
   "id": "3fd1d816",
   "metadata": {},
   "outputs": [],
   "source": [
    "def my_func(st):\n",
    "    lt=[]\n",
    "    str1=\"\"\n",
    "    for i in range(len(st)):\n",
    "        if ord(st[i])%2==0:\n",
    "            lt.append(st[i].upper())\n",
    "        else:\n",
    "            lt.append(st[i].lower())\n",
    "    return str1.join(lt)"
   ]
  },
  {
   "cell_type": "code",
   "execution_count": 41,
   "id": "4d4f1487",
   "metadata": {},
   "outputs": [
    {
     "data": {
      "text/plain": [
       "'THe LiTTLe meRmaiD'"
      ]
     },
     "execution_count": 41,
     "metadata": {},
     "output_type": "execute_result"
    }
   ],
   "source": [
    "my_func(\"THE LITTLE MERMAID\")"
   ]
  },
  {
   "cell_type": "code",
   "execution_count": null,
   "id": "ca9d177b",
   "metadata": {},
   "outputs": [],
   "source": []
  }
 ],
 "metadata": {
  "kernelspec": {
   "display_name": "Python 3 (ipykernel)",
   "language": "python",
   "name": "python3"
  },
  "language_info": {
   "codemirror_mode": {
    "name": "ipython",
    "version": 3
   },
   "file_extension": ".py",
   "mimetype": "text/x-python",
   "name": "python",
   "nbconvert_exporter": "python",
   "pygments_lexer": "ipython3",
   "version": "3.9.7"
  }
 },
 "nbformat": 4,
 "nbformat_minor": 5
}
